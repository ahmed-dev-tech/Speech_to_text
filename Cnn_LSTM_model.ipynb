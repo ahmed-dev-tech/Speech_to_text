{
  "nbformat": 4,
  "nbformat_minor": 0,
  "metadata": {
    "colab": {
      "name": "Cnn_LSTM_model.ipynb",
      "provenance": [],
      "authorship_tag": "ABX9TyN/LW/gMh2OWxjk8OumWjgZ",
      "include_colab_link": true
    },
    "kernelspec": {
      "name": "python3",
      "display_name": "Python 3"
    }
  },
  "cells": [
    {
      "cell_type": "markdown",
      "metadata": {
        "id": "view-in-github",
        "colab_type": "text"
      },
      "source": [
        "<a href=\"https://colab.research.google.com/github/ahmed-dev-tech/Speech_to_text/blob/main/Cnn_LSTM_model.ipynb\" target=\"_parent\"><img src=\"https://colab.research.google.com/assets/colab-badge.svg\" alt=\"Open In Colab\"/></a>"
      ]
    },
    {
      "cell_type": "code",
      "metadata": {
        "id": "r9MqSPP_60oK"
      },
      "source": [
        "def cnn_lstm(input_dim, output_dim, dropout=0.2, n_layers=1):\r\n",
        "\r\n",
        "\r\n",
        "  # Input data type\r\n",
        "  dtype = 'float32'\r\n",
        "\r\n",
        "  # ---- Network model ----\r\n",
        "  input_data = Input(name='the_input', shape=input_dim, dtype=dtype)\r\n",
        "\r\n",
        "  # 1 x 1D convolutional layers with strides 4\r\n",
        "  x = Conv1D(filters=256, kernel_size=10, strides=4, name='conv_1')(input_data)\r\n",
        "  x = BatchNormalization()(x)\r\n",
        "  x = Activation('relu')(x)\r\n",
        "  x = Dropout(dropout, name='dropout_1')(x)\r\n",
        "      \r\n",
        "  x = LSTM(128, activation='relu', return_sequences=True,\r\n",
        "            dropout=dropout, name='lstm_1')(x)\r\n",
        "  x = LSTM(128, activation='relu', return_sequences=False,\r\n",
        "            dropout=dropout, name='lstm_2')(x)\r\n",
        "\r\n",
        "#     # 1 fully connected layer DNN ReLu with default 20% dropout\r\n",
        "  x = Dense(units=64, activation='relu', name='fc')(x)\r\n",
        "  x = Dropout(dropout, name='dropout_2')(x)\r\n",
        "\r\n",
        "  # Output layer with softmax\r\n",
        "  y_pred = Dense(units=output_dim, activation='softmax', name='softmax')(x)\r\n",
        "\r\n",
        "  network_model = Model(inputs=input_data, outputs=y_pred)\r\n",
        "  \r\n",
        "  return network_model\r\n",
        "def lstm_predict(self,audio):\r\n",
        "  lstm_prob=self.model.predict(audio.reshape(1,8000,1))\r\n",
        "  index=np.argmax(lstm_prob[0])\r\n",
        "  return classes[index]"
      ],
      "execution_count": null,
      "outputs": []
    }
  ]
}